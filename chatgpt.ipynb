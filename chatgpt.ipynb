{
 "cells": [
  {
   "cell_type": "code",
   "execution_count": 1,
   "metadata": {},
   "outputs": [
    {
     "name": "stdout",
     "output_type": "stream",
     "text": [
      "Extraction completed! Check 'extracted_python_files.txt' for the output.\n"
     ]
    }
   ],
   "source": [
    "import os\n",
    "\n",
    "def extract_python_files(base_paths):\n",
    "    \"\"\"\n",
    "    Extracts the paths, filenames, and content of Python files in specified directories.\n",
    "    \n",
    "    Parameters:\n",
    "        base_paths (list): List of base paths to search for Python files.\n",
    "        \n",
    "    Returns:\n",
    "        dict: A dictionary with the file paths as keys and file content as values.\n",
    "    \"\"\"\n",
    "    extracted_data = {}\n",
    "    \n",
    "    for base_path in base_paths:\n",
    "        for root, _, files in os.walk(base_path):\n",
    "            for file in files:\n",
    "                if file.endswith('.py'):\n",
    "                    file_path = os.path.join(root, file)\n",
    "                    try:\n",
    "                        with open(file_path, 'r', encoding='utf-8') as f:\n",
    "                            extracted_data[file_path] = f.read()\n",
    "                    except Exception as e:\n",
    "                        print(f\"Error reading {file_path}: {e}\")\n",
    "    \n",
    "    return extracted_data\n",
    "\n",
    "def save_extracted_data(output_file, extracted_data):\n",
    "    \"\"\"\n",
    "    Saves the extracted data to a file in a readable format.\n",
    "    \n",
    "    Parameters:\n",
    "        output_file (str): Path to the output file.\n",
    "        extracted_data (dict): Dictionary containing file paths and content.\n",
    "    \"\"\"\n",
    "    with open(output_file, 'w', encoding='utf-8') as f:\n",
    "        for path, content in extracted_data.items():\n",
    "            f.write(f\"# {path}\\n\")\n",
    "            f.write(f\"{content}\\n\")\n",
    "            f.write(\"\\n\" + \"-\"*80 + \"\\n\\n\")\n",
    "\n",
    "if __name__ == \"__main__\":\n",
    "    # Specify the directories to search\n",
    "    directories_to_search = [\"dags\", \"include\"]\n",
    "    # Extract the Python files\n",
    "    python_files = extract_python_files(directories_to_search)\n",
    "    # Save the extracted data to a file\n",
    "    save_extracted_data(\"extracted_python_files.txt\", python_files)\n",
    "    print(\"Extraction completed! Check 'extracted_python_files.txt' for the output.\")\n"
   ]
  }
 ],
 "metadata": {
  "kernelspec": {
   "display_name": "venv",
   "language": "python",
   "name": "python3"
  },
  "language_info": {
   "codemirror_mode": {
    "name": "ipython",
    "version": 3
   },
   "file_extension": ".py",
   "mimetype": "text/x-python",
   "name": "python",
   "nbconvert_exporter": "python",
   "pygments_lexer": "ipython3",
   "version": "3.12.3"
  }
 },
 "nbformat": 4,
 "nbformat_minor": 2
}
